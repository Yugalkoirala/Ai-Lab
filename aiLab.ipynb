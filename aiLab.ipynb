{
 "cells": [
  {
   "cell_type": "code",
   "execution_count": 1,
   "id": "971b1d80-3002-4d56-a96c-d93e85c8bfb9",
   "metadata": {},
   "outputs": [
    {
     "name": "stdin",
     "output_type": "stream",
     "text": [
      "How many terms do you want?  5\n"
     ]
    },
    {
     "name": "stdout",
     "output_type": "stream",
     "text": [
      "Fibonacci sequence:\n",
      "0\n",
      "1\n",
      "1\n",
      "2\n",
      "3\n"
     ]
    }
   ],
   "source": [
    "# Write a program to generate the Fibonacci sequence of a given number.\n",
    "\n",
    "nterms = int(input(\"How many terms do you want? \"))\n",
    "\n",
    "n1 = 0\n",
    "n2 = 1\n",
    "count = 0\n",
    "\n",
    "if (nterms == 1):\n",
    "   print(\"Fibonacci sequence upto\",nterms,\":\")\n",
    "   print(n1)\n",
    "else:\n",
    "   print(\"Fibonacci sequence:\")\n",
    "   while (count < nterms):\n",
    "       print(n1)\n",
    "       nth = n1 + n2\n",
    "       n1 = n2\n",
    "       \n",
    "       n2 = nth\n",
    "       count += 1"
   ]
  },
  {
   "cell_type": "code",
   "execution_count": 2,
   "id": "3997627b-9650-45fa-8d12-ff7901a3ff1a",
   "metadata": {},
   "outputs": [
    {
     "name": "stdin",
     "output_type": "stream",
     "text": [
      "Enter starting number for range  1\n",
      "Enter ending number for range  99\n"
     ]
    },
    {
     "name": "stdout",
     "output_type": "stream",
     "text": [
      "1\n",
      "2\n",
      "3\n",
      "4\n",
      "5\n",
      "6\n",
      "7\n",
      "8\n",
      "9\n",
      "11\n",
      "22\n",
      "33\n",
      "44\n",
      "55\n",
      "66\n",
      "77\n",
      "88\n",
      "99\n"
     ]
    }
   ],
   "source": [
    "# Write a program to check palindrome.\n",
    "\n",
    "def isPal(num):\n",
    "    rev = 0\n",
    "    originalNum = num\n",
    "    while(num != 0):\n",
    "        rem = num %10\n",
    "        rev = rev * 10 + rem\n",
    "        num = num // 10\n",
    "    return rev\n",
    "\n",
    "start = int(input(\"Enter starting number for range \"))\n",
    "end = int(input(\"Enter ending number for range \"))\n",
    "\n",
    "for i in range(start,end+1):\n",
    "    rev = isPal(i)\n",
    "    if(rev == i):\n",
    "        print(i)"
   ]
  },
  {
   "cell_type": "code",
   "execution_count": 3,
   "id": "dc334192-5ff4-4662-9375-7c8eaae86ee4",
   "metadata": {},
   "outputs": [
    {
     "name": "stdin",
     "output_type": "stream",
     "text": [
      "Enter starting number for range  1\n",
      "Enter ending number for range  30\n"
     ]
    },
    {
     "name": "stdout",
     "output_type": "stream",
     "text": [
      "Prime numbers within the range: \n",
      "2\n",
      "3\n",
      "5\n",
      "7\n",
      "11\n",
      "13\n",
      "17\n",
      "19\n",
      "23\n",
      "29\n"
     ]
    }
   ],
   "source": [
    "# Write a program to find prime number with in a range using function.\n",
    "\n",
    "def isPrime(a):\n",
    "    pCount=0\n",
    "    for j in range(1,a+1):\n",
    "        if(a%j==0):\n",
    "            pCount+=1\n",
    "    return pCount\n",
    "\n",
    "start = int(input(\"Enter starting number for range \"))\n",
    "end = int(input(\"Enter ending number for range \"))\n",
    "\n",
    "print(\"Prime numbers within the range: \")\n",
    "for i in range(start,end+1):\n",
    "    count = isPrime(i)\n",
    "    if(count == 2):\n",
    "        print (i)\n",
    "\n",
    "\n",
    "\n",
    "\n"
   ]
  },
  {
   "cell_type": "code",
   "execution_count": null,
   "id": "c9ee97d0-5dc1-4e39-8835-804720e83401",
   "metadata": {},
   "outputs": [],
   "source": []
  }
 ],
 "metadata": {
  "kernelspec": {
   "display_name": "Python 3 (ipykernel)",
   "language": "python",
   "name": "python3"
  },
  "language_info": {
   "codemirror_mode": {
    "name": "ipython",
    "version": 3
   },
   "file_extension": ".py",
   "mimetype": "text/x-python",
   "name": "python",
   "nbconvert_exporter": "python",
   "pygments_lexer": "ipython3",
   "version": "3.9.5"
  }
 },
 "nbformat": 4,
 "nbformat_minor": 5
}
